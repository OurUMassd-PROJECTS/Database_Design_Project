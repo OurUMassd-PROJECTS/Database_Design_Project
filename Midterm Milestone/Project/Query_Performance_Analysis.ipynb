{
 "cells": [
  {
   "cell_type": "markdown",
   "id": "817a7893-d3e6-4582-a38e-60cd7f3f8cf1",
   "metadata": {},
   "source": [
    "# Import Libraries"
   ]
  },
  {
   "cell_type": "code",
   "execution_count": 1,
   "id": "ef7b1b0e-9e2a-4052-bc7d-49c40ab45f9c",
   "metadata": {
    "tags": []
   },
   "outputs": [],
   "source": [
    "import sqlite3\n",
    "import csv\n",
    "import time\n",
    "import pandas as pd\n",
    "import matplotlib.pyplot as plt\n",
    "from datetime import datetime\n",
    "from IPython.display import display, HTML, Markdown"
   ]
  },
  {
   "cell_type": "markdown",
   "id": "3293301b-eaf2-4267-96f4-4b756e753b59",
   "metadata": {},
   "source": [
    "# Helper Functions"
   ]
  },
  {
   "cell_type": "code",
   "execution_count": 2,
   "id": "d9b6b00c-17a4-4fd4-bb71-9b88cd22d652",
   "metadata": {
    "tags": []
   },
   "outputs": [],
   "source": [
    "def parse_date(date_str):\n",
    "    return datetime.strptime(date_str, '%m/%d/%Y').strftime('%Y-%m-%d')\n",
    "\n",
    "def display_formatted_output(text, is_bold=False):\n",
    "    if is_bold:\n",
    "        display(Markdown(f\"**{text}**\"))\n",
    "    else:\n",
    "        display(Markdown(text))"
   ]
  },
  {
   "cell_type": "markdown",
   "id": "c289dd69-5ed6-4161-b15c-82e12be699f5",
   "metadata": {},
   "source": [
    "# Database Loading Function"
   ]
  },
  {
   "cell_type": "code",
   "execution_count": 3,
   "id": "b4773347-080a-4a3b-a1e2-3c6667ddce52",
   "metadata": {
    "tags": []
   },
   "outputs": [
    {
     "data": {
      "text/markdown": [
       "Loading ./csv_files/salary_tracker_1MB.csv into salary_data_1MB..."
      ],
      "text/plain": [
       "<IPython.core.display.Markdown object>"
      ]
     },
     "metadata": {},
     "output_type": "display_data"
    },
    {
     "data": {
      "text/markdown": [
       "**Creating indexes...**"
      ],
      "text/plain": [
       "<IPython.core.display.Markdown object>"
      ]
     },
     "metadata": {},
     "output_type": "display_data"
    },
    {
     "data": {
      "text/markdown": [
       "**Loading complete!**"
      ],
      "text/plain": [
       "<IPython.core.display.Markdown object>"
      ]
     },
     "metadata": {},
     "output_type": "display_data"
    },
    {
     "data": {
      "text/markdown": [
       "Loading ./csv_files/salary_tracker_10MB.csv into salary_data_10MB..."
      ],
      "text/plain": [
       "<IPython.core.display.Markdown object>"
      ]
     },
     "metadata": {},
     "output_type": "display_data"
    },
    {
     "data": {
      "text/markdown": [
       "**Creating indexes...**"
      ],
      "text/plain": [
       "<IPython.core.display.Markdown object>"
      ]
     },
     "metadata": {},
     "output_type": "display_data"
    },
    {
     "data": {
      "text/markdown": [
       "**Loading complete!**"
      ],
      "text/plain": [
       "<IPython.core.display.Markdown object>"
      ]
     },
     "metadata": {},
     "output_type": "display_data"
    },
    {
     "data": {
      "text/markdown": [
       "Loading ./csv_files/salary_tracker_100MB.csv into salary_data_100MB..."
      ],
      "text/plain": [
       "<IPython.core.display.Markdown object>"
      ]
     },
     "metadata": {},
     "output_type": "display_data"
    },
    {
     "data": {
      "text/markdown": [
       "**Creating indexes...**"
      ],
      "text/plain": [
       "<IPython.core.display.Markdown object>"
      ]
     },
     "metadata": {},
     "output_type": "display_data"
    },
    {
     "data": {
      "text/markdown": [
       "**Loading complete!**"
      ],
      "text/plain": [
       "<IPython.core.display.Markdown object>"
      ]
     },
     "metadata": {},
     "output_type": "display_data"
    }
   ],
   "source": [
    "def load_csv_to_db(csv_file, db_name, table_name):\n",
    "    conn = sqlite3.connect(db_name, timeout=10)\n",
    "    conn.execute('PRAGMA journal_mode=WAL')\n",
    "    conn.execute('PRAGMA synchronous=NORMAL')\n",
    "    conn.execute('PRAGMA cache_size=-20000')\n",
    "    \n",
    "    # Drop existing table if any\n",
    "    conn.execute(f'DROP TABLE IF EXISTS {table_name}')\n",
    "    \n",
    "    # Create table without PRIMARY KEY constraint\n",
    "    conn.execute(f'''CREATE TABLE {table_name} (\n",
    "                      PersonID INTEGER,\n",
    "                      PersonName TEXT,\n",
    "                      SchoolID TEXT,\n",
    "                      SchoolName TEXT,\n",
    "                      SchoolCampus TEXT,\n",
    "                      DepartmentName TEXT,\n",
    "                      DepartmentID TEXT,\n",
    "                      BirthDate TEXT,\n",
    "                      StillWorking TEXT,\n",
    "                      JobID TEXT,\n",
    "                      JobTitle TEXT,\n",
    "                      Earnings REAL,\n",
    "                      EarningsYear INTEGER\n",
    "                  )''')\n",
    "    \n",
    "    insert_query = f'INSERT INTO {table_name} VALUES (?, ?, ?, ?, ?, ?, ?, ?, ?, ?, ?, ?, ?)'\n",
    "    \n",
    "    try:\n",
    "        with open(csv_file, 'r') as file:\n",
    "            reader = csv.reader(file)\n",
    "            next(reader)  # Skip header\n",
    "            \n",
    "            rows = []\n",
    "            for row in reader:\n",
    "                try:\n",
    "                    # Convert BirthDate\n",
    "                    row[7] = parse_date(row[7])\n",
    "                    # Convert numeric fields\n",
    "                    row[0] = int(row[0])  # PersonID\n",
    "                    row[11] = float(row[11])  # Earnings\n",
    "                    row[12] = int(row[12])  # EarningsYear\n",
    "                    rows.append(row)\n",
    "                    \n",
    "                    if len(rows) >= 5000:  # Reduced batch size\n",
    "                        conn.executemany(insert_query, rows)\n",
    "                        conn.commit()  # Commit each batch\n",
    "                        rows = []\n",
    "                except (ValueError, IndexError) as e:\n",
    "                    print(f\"Skipping invalid row: {row}\")\n",
    "                    continue\n",
    "            \n",
    "            # Insert remaining rows\n",
    "            if rows:\n",
    "                conn.executemany(insert_query, rows)\n",
    "                conn.commit()\n",
    "        \n",
    "        # Create indexes after data insertion\n",
    "        display_formatted_output(\"Creating indexes...\", True)\n",
    "        conn.execute(f'CREATE INDEX idx_{table_name}_personid ON {table_name} (PersonID)')\n",
    "        conn.execute(f'CREATE INDEX idx_{table_name}_birthdate ON {table_name} (BirthDate)')\n",
    "        conn.execute(f'CREATE INDEX idx_{table_name}_earnings ON {table_name} (Earnings)')\n",
    "        conn.execute(f'CREATE INDEX idx_{table_name}_stillworking ON {table_name} (StillWorking)')\n",
    "        conn.commit()\n",
    "        \n",
    "    except Exception as e:\n",
    "        print(f\"Error processing {csv_file}: {str(e)}\")\n",
    "        conn.rollback()\n",
    "    finally:\n",
    "        conn.close()\n",
    "        \n",
    "# Load data\n",
    "csv_files = ['./csv_files/salary_tracker_1MB.csv', \n",
    "             './csv_files/salary_tracker_10MB.csv', \n",
    "             './csv_files/salary_tracker_100MB.csv']\n",
    "table_names = ['salary_data_1MB', 'salary_data_10MB', 'salary_data_100MB']\n",
    "db_name = 'salary_data.db'\n",
    "\n",
    "for csv_file, table_name in zip(csv_files, table_names):\n",
    "    display_formatted_output(f\"Loading {csv_file} into {table_name}...\")\n",
    "    load_csv_to_db(csv_file, db_name, table_name)\n",
    "    display_formatted_output(\"Loading complete!\", True)"
   ]
  },
  {
   "cell_type": "markdown",
   "id": "605d6ab2-be94-4605-865b-49578de6c9ae",
   "metadata": {},
   "source": [
    "# Define Queries"
   ]
  },
  {
   "cell_type": "code",
   "execution_count": 9,
   "id": "9edc99a0-6833-438d-a77f-0fb936219384",
   "metadata": {
    "tags": []
   },
   "outputs": [],
   "source": [
    "queries = {\n",
    "    \"1\": \"\"\"\n",
    "        SELECT PersonName\n",
    "        FROM {table_name} AS s1\n",
    "        WHERE BirthDate < '1975-01-01' \n",
    "        AND Earnings > 130000\n",
    "        AND EarningsYear = (\n",
    "            SELECT MAX(EarningsYear) \n",
    "            FROM {table_name} AS s2 \n",
    "            WHERE s1.PersonID = s2.PersonID\n",
    "        ) ORDER BY PersonName ASC;\n",
    "    \"\"\",\n",
    "    \"2\": \"\"\"\n",
    "        SELECT DISTINCT PersonName, SchoolName\n",
    "        FROM {table_name}\n",
    "        WHERE Earnings > 400000 \n",
    "        AND StillWorking = 'no';\n",
    "    \"\"\",\n",
    "    \"3\": \"\"\"\n",
    "        SELECT PersonName \n",
    "        FROM {table_name} \n",
    "        WHERE SchoolName LIKE '%University of Texas%' \n",
    "        AND JobTitle = 'Lecturer' \n",
    "        AND StillWorking = 'no';\n",
    "    \"\"\",\n",
    "    \"4\": \"\"\"\n",
    "        SELECT SchoolName, SchoolCampus, COUNT(*) as ActiveFacultyCount\n",
    "        FROM {table_name}\n",
    "        WHERE StillWorking = 'yes'\n",
    "        GROUP BY SchoolName, SchoolCampus\n",
    "        ORDER BY ActiveFacultyCount DESC\n",
    "        LIMIT 1;\n",
    "    \"\"\",\n",
    "    \"5\": \"\"\"\n",
    "        SELECT PersonName, JobTitle, DepartmentName, SchoolName, Earnings\n",
    "        FROM {table_name}\n",
    "        WHERE PersonName LIKE '%Vinay Shetye%'\n",
    "        AND EarningsYear = (\n",
    "            SELECT MAX(EarningsYear)\n",
    "            FROM {table_name}\n",
    "            WHERE PersonName LIKE '%Vinay Shetye%'\n",
    "        );\n",
    "    \"\"\",\n",
    "    \"6\": \"\"\"\n",
    "        SELECT DepartmentName, AVG(Earnings) as AvgEarnings\n",
    "        FROM {table_name}\n",
    "        GROUP BY DepartmentName\n",
    "        ORDER BY AvgEarnings DESC\n",
    "        LIMIT 1;\n",
    "    \"\"\"\n",
    "}"
   ]
  },
  {
   "cell_type": "markdown",
   "id": "1366b5fe-42b8-4f4e-b684-75c976133608",
   "metadata": {},
   "source": [
    "# Performance Measurement Function"
   ]
  },
  {
   "cell_type": "code",
   "execution_count": 10,
   "id": "cfa33828-c7b4-4eff-8845-91046f6c5bda",
   "metadata": {
    "tags": []
   },
   "outputs": [],
   "source": [
    "def measure_query_performance(db_name, table_name, query_template, query_num):\n",
    "    conn = sqlite3.connect(db_name)\n",
    "    conn.execute('PRAGMA cache_size=-20000')\n",
    "    conn.execute('PRAGMA mmap_size=30000000000')\n",
    "    \n",
    "    query = query_template.format(table_name=table_name)\n",
    "    \n",
    "    # Display query details\n",
    "    display_formatted_output(f\"Query {query_num}\", True)\n",
    "    display_formatted_output(f\"Table: {table_name}\", True)\n",
    "    display_formatted_output(\"SQL Query:\")\n",
    "    display_formatted_output(f\"```sql\\n{query}\\n```\")\n",
    "    \n",
    "    # Execute and measure\n",
    "    start_time = time.time()\n",
    "    results = pd.read_sql_query(query, conn)\n",
    "    elapsed_time = time.time() - start_time\n",
    "    \n",
    "    display_formatted_output(f\"Execution Time: {elapsed_time:.4f} seconds\", True)\n",
    "    display_formatted_output(\"\\nResults:\")\n",
    "    display(results)\n",
    "    \n",
    "    # Plot individual query timing\n",
    "    plt.figure(figsize=(8, 4))\n",
    "    plt.bar(['Execution Time'], [elapsed_time])\n",
    "    plt.title(f'Query {query_num} - {table_name}')\n",
    "    plt.ylabel('Time (seconds)')\n",
    "    plt.show()\n",
    "    \n",
    "    conn.close()\n",
    "    return elapsed_time"
   ]
  },
  {
   "cell_type": "markdown",
   "id": "13ecc20c-06aa-4f27-844a-0bcd1f436f4b",
   "metadata": {
    "tags": []
   },
   "source": [
    "# Execute Queries and Track Performance"
   ]
  },
  {
   "cell_type": "code",
   "execution_count": 11,
   "id": "dc4f1ecc-86cb-4fa7-8a7a-967169830443",
   "metadata": {
    "tags": []
   },
   "outputs": [
    {
     "data": {
      "text/markdown": [
       "\n",
       "=================================================="
      ],
      "text/plain": [
       "<IPython.core.display.Markdown object>"
      ]
     },
     "metadata": {},
     "output_type": "display_data"
    },
    {
     "data": {
      "text/markdown": [
       "**Executing Query 1 across all database sizes**"
      ],
      "text/plain": [
       "<IPython.core.display.Markdown object>"
      ]
     },
     "metadata": {},
     "output_type": "display_data"
    },
    {
     "data": {
      "text/markdown": [
       "==================================================\n"
      ],
      "text/plain": [
       "<IPython.core.display.Markdown object>"
      ]
     },
     "metadata": {},
     "output_type": "display_data"
    },
    {
     "data": {
      "text/markdown": [
       "**Query 1**"
      ],
      "text/plain": [
       "<IPython.core.display.Markdown object>"
      ]
     },
     "metadata": {},
     "output_type": "display_data"
    },
    {
     "data": {
      "text/markdown": [
       "**Table: salary_data_1MB**"
      ],
      "text/plain": [
       "<IPython.core.display.Markdown object>"
      ]
     },
     "metadata": {},
     "output_type": "display_data"
    },
    {
     "data": {
      "text/markdown": [
       "SQL Query:"
      ],
      "text/plain": [
       "<IPython.core.display.Markdown object>"
      ]
     },
     "metadata": {},
     "output_type": "display_data"
    },
    {
     "data": {
      "text/markdown": [
       "```sql\n",
       "\n",
       "        SELECT PersonName\n",
       "        FROM salary_data_1MB AS s1\n",
       "        WHERE BirthDate < '1975-01-01' \n",
       "        AND Earnings > 130000\n",
       "        AND EarningsYear = (\n",
       "            SELECT MAX(EarningsYear) \n",
       "            FROM salary_data_1MB AS s2 \n",
       "            WHERE s1.PersonID = s2.PersonID\n",
       "        ) ORDER BY PersonName ASC;\n",
       "    \n",
       "```"
      ],
      "text/plain": [
       "<IPython.core.display.Markdown object>"
      ]
     },
     "metadata": {},
     "output_type": "display_data"
    },
    {
     "data": {
      "text/markdown": [
       "**Execution Time: 0.0126 seconds**"
      ],
      "text/plain": [
       "<IPython.core.display.Markdown object>"
      ]
     },
     "metadata": {},
     "output_type": "display_data"
    },
    {
     "data": {
      "text/markdown": [
       "\n",
       "Results:"
      ],
      "text/plain": [
       "<IPython.core.display.Markdown object>"
      ]
     },
     "metadata": {},
     "output_type": "display_data"
    },
    {
     "data": {
      "text/html": [
       "<div>\n",
       "<style scoped>\n",
       "    .dataframe tbody tr th:only-of-type {\n",
       "        vertical-align: middle;\n",
       "    }\n",
       "\n",
       "    .dataframe tbody tr th {\n",
       "        vertical-align: top;\n",
       "    }\n",
       "\n",
       "    .dataframe thead th {\n",
       "        text-align: right;\n",
       "    }\n",
       "</style>\n",
       "<table border=\"1\" class=\"dataframe\">\n",
       "  <thead>\n",
       "    <tr style=\"text-align: right;\">\n",
       "      <th></th>\n",
       "      <th>PersonName</th>\n",
       "    </tr>\n",
       "  </thead>\n",
       "  <tbody>\n",
       "    <tr>\n",
       "      <th>0</th>\n",
       "      <td>Aaron Hernandez III</td>\n",
       "    </tr>\n",
       "    <tr>\n",
       "      <th>1</th>\n",
       "      <td>Aaron Hicks</td>\n",
       "    </tr>\n",
       "    <tr>\n",
       "      <th>2</th>\n",
       "      <td>Aaron Levy</td>\n",
       "    </tr>\n",
       "    <tr>\n",
       "      <th>3</th>\n",
       "      <td>Aaron Walsh</td>\n",
       "    </tr>\n",
       "    <tr>\n",
       "      <th>4</th>\n",
       "      <td>Aaron Weaver</td>\n",
       "    </tr>\n",
       "    <tr>\n",
       "      <th>...</th>\n",
       "      <td>...</td>\n",
       "    </tr>\n",
       "    <tr>\n",
       "      <th>1183</th>\n",
       "      <td>Zachary Smith</td>\n",
       "    </tr>\n",
       "    <tr>\n",
       "      <th>1184</th>\n",
       "      <td>Zachary Smith</td>\n",
       "    </tr>\n",
       "    <tr>\n",
       "      <th>1185</th>\n",
       "      <td>Zachary Stout</td>\n",
       "    </tr>\n",
       "    <tr>\n",
       "      <th>1186</th>\n",
       "      <td>Zachary Stout</td>\n",
       "    </tr>\n",
       "    <tr>\n",
       "      <th>1187</th>\n",
       "      <td>Zoe Booth</td>\n",
       "    </tr>\n",
       "  </tbody>\n",
       "</table>\n",
       "<p>1188 rows × 1 columns</p>\n",
       "</div>"
      ],
      "text/plain": [
       "               PersonName\n",
       "0     Aaron Hernandez III\n",
       "1             Aaron Hicks\n",
       "2              Aaron Levy\n",
       "3             Aaron Walsh\n",
       "4            Aaron Weaver\n",
       "...                   ...\n",
       "1183        Zachary Smith\n",
       "1184        Zachary Smith\n",
       "1185        Zachary Stout\n",
       "1186        Zachary Stout\n",
       "1187            Zoe Booth\n",
       "\n",
       "[1188 rows x 1 columns]"
      ]
     },
     "metadata": {},
     "output_type": "display_data"
    },
    {
     "data": {
      "image/png": "[encoded data removed]",
      "text/plain": [
       "<Figure size 800x400 with 1 Axes>"
      ]
     },
     "metadata": {},
     "output_type": "display_data"
    },
    {
     "data": {
      "text/markdown": [
       "**Query 1**"
      ],
      "text/plain": [
       "<IPython.core.display.Markdown object>"
      ]
     },
     "metadata": {},
     "output_type": "display_data"
    },
    {
     "data": {
      "text/markdown": [
       "**Table: salary_data_10MB**"
      ],
      "text/plain": [
       "<IPython.core.display.Markdown object>"
      ]
     },
     "metadata": {},
     "output_type": "display_data"
    },
    {
     "data": {
      "text/markdown": [
       "SQL Query:"
      ],
      "text/plain": [
       "<IPython.core.display.Markdown object>"
      ]
     },
     "metadata": {},
     "output_type": "display_data"
    },
    {
     "data": {
      "text/markdown": [
       "```sql\n",
       "\n",
       "        SELECT PersonName\n",
       "        FROM salary_data_10MB AS s1\n",
       "        WHERE BirthDate < '1975-01-01' \n",
       "        AND Earnings > 130000\n",
       "        AND EarningsYear = (\n",
       "            SELECT MAX(EarningsYear) \n",
       "            FROM salary_data_10MB AS s2 \n",
       "            WHERE s1.PersonID = s2.PersonID\n",
       "        ) ORDER BY PersonName ASC;\n",
       "    \n",
       "```"
      ],
      "text/plain": [
       "<IPython.core.display.Markdown object>"
      ]
     },
     "metadata": {},
     "output_type": "display_data"
    },
    {
     "data": {
      "text/markdown": [
       "**Execution Time: 0.1342 seconds**"
      ],
      "text/plain": [
       "<IPython.core.display.Markdown object>"
      ]
     },
     "metadata": {},
     "output_type": "display_data"
    },
    {
     "data": {
      "text/markdown": [
       "\n",
       "Results:"
      ],
      "text/plain": [
       "<IPython.core.display.Markdown object>"
      ]
     },
     "metadata": {},
     "output_type": "display_data"
    },
    {
     "data": {
      "text/html": [
       "<div>\n",
       "<style scoped>\n",
       "    .dataframe tbody tr th:only-of-type {\n",
       "        vertical-align: middle;\n",
       "    }\n",
       "\n",
       "    .dataframe tbody tr th {\n",
       "        vertical-align: top;\n",
       "    }\n",
       "\n",
       "    .dataframe thead th {\n",
       "        text-align: right;\n",
       "    }\n",
       "</style>\n",
       "<table border=\"1\" class=\"dataframe\">\n",
       "  <thead>\n",
       "    <tr style=\"text-align: right;\">\n",
       "      <th></th>\n",
       "      <th>PersonName</th>\n",
       "    </tr>\n",
       "  </thead>\n",
       "  <tbody>\n",
       "    <tr>\n",
       "      <th>0</th>\n",
       "      <td>- ARBAAZ</td>\n",
       "    </tr>\n",
       "    <tr>\n",
       "      <th>1</th>\n",
       "      <td>Aaron Bishop</td>\n",
       "    </tr>\n",
       "    <tr>\n",
       "      <th>2</th>\n",
       "      <td>Aaron Bishop</td>\n",
       "    </tr>\n",
       "    <tr>\n",
       "      <th>3</th>\n",
       "      <td>Aaron Castillo</td>\n",
       "    </tr>\n",
       "    <tr>\n",
       "      <th>4</th>\n",
       "      <td>Aaron Copeland</td>\n",
       "    </tr>\n",
       "    <tr>\n",
       "      <th>...</th>\n",
       "      <td>...</td>\n",
       "    </tr>\n",
       "    <tr>\n",
       "      <th>6303</th>\n",
       "      <td>Zachary Smith</td>\n",
       "    </tr>\n",
       "    <tr>\n",
       "      <th>6304</th>\n",
       "      <td>Zachary Williamson</td>\n",
       "    </tr>\n",
       "    <tr>\n",
       "      <th>6305</th>\n",
       "      <td>Zachary Williamson</td>\n",
       "    </tr>\n",
       "    <tr>\n",
       "      <th>6306</th>\n",
       "      <td>Zachary Young</td>\n",
       "    </tr>\n",
       "    <tr>\n",
       "      <th>6307</th>\n",
       "      <td>Zoe Trevino</td>\n",
       "    </tr>\n",
       "  </tbody>\n",
       "</table>\n",
       "<p>6308 rows × 1 columns</p>\n",
       "</div>"
      ],
      "text/plain": [
       "              PersonName\n",
       "0               - ARBAAZ\n",
       "1           Aaron Bishop\n",
       "2           Aaron Bishop\n",
       "3         Aaron Castillo\n",
       "4         Aaron Copeland\n",
       "...                  ...\n",
       "6303       Zachary Smith\n",
       "6304  Zachary Williamson\n",
       "6305  Zachary Williamson\n",
       "6306       Zachary Young\n",
       "6307         Zoe Trevino\n",
       "\n",
       "[6308 rows x 1 columns]"
      ]
     },
     "metadata": {},
     "output_type": "display_data"
    },
    {
     "data": {
      "image/png": "[encoded data removed]",
      "text/plain": [
       "<Figure size 800x400 with 1 Axes>"
      ]
     },
     "metadata": {},
     "output_type": "display_data"
    },
    {
     "data": {
      "text/markdown": [
       "**Query 1**"
      ],
      "text/plain": [
       "<IPython.core.display.Markdown object>"
      ]
     },
     "metadata": {},
     "output_type": "display_data"
    },
    {
     "data": {
      "text/markdown": [
       "**Table: salary_data_100MB**"
      ],
      "text/plain": [
       "<IPython.core.display.Markdown object>"
      ]
     },
     "metadata": {},
     "output_type": "display_data"
    },
    {
     "data": {
      "text/markdown": [
       "SQL Query:"
      ],
      "text/plain": [
       "<IPython.core.display.Markdown object>"
      ]
     },
     "metadata": {},
     "output_type": "display_data"
    },
    {
     "data": {
      "text/markdown": [
       "```sql\n",
       "\n",
       "        SELECT PersonName\n",
       "        FROM salary_data_100MB AS s1\n",
       "        WHERE BirthDate < '1975-01-01' \n",
       "        AND Earnings > 130000\n",
       "        AND EarningsYear = (\n",
       "            SELECT MAX(EarningsYear) \n",
       "            FROM salary_data_100MB AS s2 \n",
       "            WHERE s1.PersonID = s2.PersonID\n",
       "        ) ORDER BY PersonName ASC;\n",
       "    \n",
       "```"
      ],
      "text/plain": [
       "<IPython.core.display.Markdown object>"
      ]
     },
     "metadata": {},
     "output_type": "display_data"
    },
    {
     "data": {
      "text/markdown": [
       "**Execution Time: 1.5334 seconds**"
      ],
      "text/plain": [
       "<IPython.core.display.Markdown object>"
      ]
     },
     "metadata": {},
     "output_type": "display_data"
    },
    {
     "data": {
      "text/markdown": [
       "\n",
       "Results:"
      ],
      "text/plain": [
       "<IPython.core.display.Markdown object>"
      ]
     },
     "metadata": {},
     "output_type": "display_data"
    },
    {
     "data": {
      "text/html": [
       "<div>\n",
       "<style scoped>\n",
       "    .dataframe tbody tr th:only-of-type {\n",
       "        vertical-align: middle;\n",
       "    }\n",
       "\n",
       "    .dataframe tbody tr th {\n",
       "        vertical-align: top;\n",
       "    }\n",
       "\n",
       "    .dataframe thead th {\n",
       "        text-align: right;\n",
       "    }\n",
       "</style>\n",
       "<table border=\"1\" class=\"dataframe\">\n",
       "  <thead>\n",
       "    <tr style=\"text-align: right;\">\n",
       "      <th></th>\n",
       "      <th>PersonName</th>\n",
       "    </tr>\n",
       "  </thead>\n",
       "  <tbody>\n",
       "    <tr>\n",
       "      <th>0</th>\n",
       "      <td>- ARBAAZ</td>\n",
       "    </tr>\n",
       "    <tr>\n",
       "      <th>1</th>\n",
       "      <td>Aaron Ali</td>\n",
       "    </tr>\n",
       "    <tr>\n",
       "      <th>2</th>\n",
       "      <td>Aaron Boyer</td>\n",
       "    </tr>\n",
       "    <tr>\n",
       "      <th>3</th>\n",
       "      <td>Aaron Boyer</td>\n",
       "    </tr>\n",
       "    <tr>\n",
       "      <th>4</th>\n",
       "      <td>Aaron Boyer</td>\n",
       "    </tr>\n",
       "    <tr>\n",
       "      <th>...</th>\n",
       "      <td>...</td>\n",
       "    </tr>\n",
       "    <tr>\n",
       "      <th>62656</th>\n",
       "      <td>Zoe Wise</td>\n",
       "    </tr>\n",
       "    <tr>\n",
       "      <th>62657</th>\n",
       "      <td>Zoe Wise</td>\n",
       "    </tr>\n",
       "    <tr>\n",
       "      <th>62658</th>\n",
       "      <td>Zoe Wise</td>\n",
       "    </tr>\n",
       "    <tr>\n",
       "      <th>62659</th>\n",
       "      <td>Zoe Wise</td>\n",
       "    </tr>\n",
       "    <tr>\n",
       "      <th>62660</th>\n",
       "      <td>Zoe Wise</td>\n",
       "    </tr>\n",
       "  </tbody>\n",
       "</table>\n",
       "<p>62661 rows × 1 columns</p>\n",
       "</div>"
      ],
      "text/plain": [
       "        PersonName\n",
       "0         - ARBAAZ\n",
       "1        Aaron Ali\n",
       "2      Aaron Boyer\n",
       "3      Aaron Boyer\n",
       "4      Aaron Boyer\n",
       "...            ...\n",
       "62656     Zoe Wise\n",
       "62657     Zoe Wise\n",
       "62658     Zoe Wise\n",
       "62659     Zoe Wise\n",
       "62660     Zoe Wise\n",
       "\n",
       "[62661 rows x 1 columns]"
      ]
     },
     "metadata": {},
     "output_type": "display_data"
    },
    {
     "data": {
      "image/png": "[encoded data removed]",
      "text/plain": [
       "<Figure size 800x400 with 1 Axes>"
      ]
     },
     "metadata": {},
     "output_type": "display_data"
    },
    {
     "data": {
      "text/markdown": [
       "\n",
       "=================================================="
      ],
      "text/plain": [
       "<IPython.core.display.Markdown object>"
      ]
     },
     "metadata": {},
     "output_type": "display_data"
    },
    {
     "data": {
      "text/markdown": [
       "**Executing Query 2 across all database sizes**"
      ],
      "text/plain": [
       "<IPython.core.display.Markdown object>"
      ]
     },
     "metadata": {},
     "output_type": "display_data"
    },
    {
     "data": {
      "text/markdown": [
       "==================================================\n"
      ],
      "text/plain": [
       "<IPython.core.display.Markdown object>"
      ]
     },
     "metadata": {},
     "output_type": "display_data"
    },
    {
     "data": {
      "text/markdown": [
       "**Query 2**"
      ],
      "text/plain": [
       "<IPython.core.display.Markdown object>"
      ]
     },
     "metadata": {},
     "output_type": "display_data"
    },
    {
     "data": {
      "text/markdown": [
       "**Table: salary_data_1MB**"
      ],
      "text/plain": [
       "<IPython.core.display.Markdown object>"
      ]
     },
     "metadata": {},
     "output_type": "display_data"
    },
    {
     "data": {
      "text/markdown": [
       "SQL Query:"
      ],
      "text/plain": [
       "<IPython.core.display.Markdown object>"
      ]
     },
     "metadata": {},
     "output_type": "display_data"
    },
    {
     "data": {
      "text/markdown": [
       "```sql\n",
       "\n",
       "        SELECT DISTINCT PersonName, SchoolName\n",
       "        FROM salary_data_1MB\n",
       "        WHERE Earnings > 400000 \n",
       "        AND StillWorking = 'no';\n",
       "    \n",
       "```"
      ],
      "text/plain": [
       "<IPython.core.display.Markdown object>"
      ]
     },
     "metadata": {},
     "output_type": "display_data"
    },
    {
     "data": {
      "text/markdown": [
       "**Execution Time: 0.0000 seconds**"
      ],
      "text/plain": [
       "<IPython.core.display.Markdown object>"
      ]
     },
     "metadata": {},
     "output_type": "display_data"
    },
    {
     "data": {
      "text/markdown": [
       "\n",
       "Results:"
      ],
      "text/plain": [
       "<IPython.core.display.Markdown object>"
      ]
     },
     "metadata": {},
     "output_type": "display_data"
    },
    {
     "data": {
      "text/html": [
       "<div>\n",
       "<style scoped>\n",
       "    .dataframe tbody tr th:only-of-type {\n",
       "        vertical-align: middle;\n",
       "    }\n",
       "\n",
       "    .dataframe tbody tr th {\n",
       "        vertical-align: top;\n",
       "    }\n",
       "\n",
       "    .dataframe thead th {\n",
       "        text-align: right;\n",
       "    }\n",
       "</style>\n",
       "<table border=\"1\" class=\"dataframe\">\n",
       "  <thead>\n",
       "    <tr style=\"text-align: right;\">\n",
       "      <th></th>\n",
       "      <th>PersonName</th>\n",
       "      <th>SchoolName</th>\n",
       "    </tr>\n",
       "  </thead>\n",
       "  <tbody>\n",
       "    <tr>\n",
       "      <th>0</th>\n",
       "      <td>Amber Solomon</td>\n",
       "      <td>University of Texas</td>\n",
       "    </tr>\n",
       "    <tr>\n",
       "      <th>1</th>\n",
       "      <td>Valerie Harvey</td>\n",
       "      <td>University of Massachusetts</td>\n",
       "    </tr>\n",
       "    <tr>\n",
       "      <th>2</th>\n",
       "      <td>Robert Moran</td>\n",
       "      <td>University of Florida</td>\n",
       "    </tr>\n",
       "    <tr>\n",
       "      <th>3</th>\n",
       "      <td>Amber Hartman</td>\n",
       "      <td>University of Massachusetts</td>\n",
       "    </tr>\n",
       "    <tr>\n",
       "      <th>4</th>\n",
       "      <td>Siddharth Munagala</td>\n",
       "      <td>University of Massachusetts</td>\n",
       "    </tr>\n",
       "    <tr>\n",
       "      <th>...</th>\n",
       "      <td>...</td>\n",
       "      <td>...</td>\n",
       "    </tr>\n",
       "    <tr>\n",
       "      <th>769</th>\n",
       "      <td>Joshua Davis</td>\n",
       "      <td>University of Texas</td>\n",
       "    </tr>\n",
       "    <tr>\n",
       "      <th>770</th>\n",
       "      <td>Douglas Woods</td>\n",
       "      <td>University of California</td>\n",
       "    </tr>\n",
       "    <tr>\n",
       "      <th>771</th>\n",
       "      <td>Sarah Harris</td>\n",
       "      <td>University of Massachusetts</td>\n",
       "    </tr>\n",
       "    <tr>\n",
       "      <th>772</th>\n",
       "      <td>Cynthia Boyer</td>\n",
       "      <td>University of Massachusetts</td>\n",
       "    </tr>\n",
       "    <tr>\n",
       "      <th>773</th>\n",
       "      <td>Howard Neal</td>\n",
       "      <td>University of Illinois</td>\n",
       "    </tr>\n",
       "  </tbody>\n",
       "</table>\n",
       "<p>774 rows × 2 columns</p>\n",
       "</div>"
      ],
      "text/plain": [
       "             PersonName                   SchoolName\n",
       "0         Amber Solomon          University of Texas\n",
       "1        Valerie Harvey  University of Massachusetts\n",
       "2          Robert Moran        University of Florida\n",
       "3         Amber Hartman  University of Massachusetts\n",
       "4    Siddharth Munagala  University of Massachusetts\n",
       "..                  ...                          ...\n",
       "769        Joshua Davis          University of Texas\n",
       "770       Douglas Woods     University of California\n",
       "771        Sarah Harris  University of Massachusetts\n",
       "772       Cynthia Boyer  University of Massachusetts\n",
       "773         Howard Neal       University of Illinois\n",
       "\n",
       "[774 rows x 2 columns]"
      ]
     },
     "metadata": {},
     "output_type": "display_data"
    },
    {
     "data": {
      "image/png": "[encoded data removed]",
      "text/plain": [
       "<Figure size 800x400 with 1 Axes>"
      ]
     },
     "metadata": {},
     "output_type": "display_data"
    },
    {
     "data": {
      "text/markdown": [
       "**Query 2**"
      ],
      "text/plain": [
       "<IPython.core.display.Markdown object>"
      ]
     },
     "metadata": {},
     "output_type": "display_data"
    },
    {
     "data": {
      "text/markdown": [
       "**Table: salary_data_10MB**"
      ],
      "text/plain": [
       "<IPython.core.display.Markdown object>"
      ]
     },
     "metadata": {},
     "output_type": "display_data"
    },
    {
     "data": {
      "text/markdown": [
       "SQL Query:"
      ],
      "text/plain": [
       "<IPython.core.display.Markdown object>"
      ]
     },
     "metadata": {},
     "output_type": "display_data"
    },
    {
     "data": {
      "text/markdown": [
       "```sql\n",
       "\n",
       "        SELECT DISTINCT PersonName, SchoolName\n",
       "        FROM salary_data_10MB\n",
       "        WHERE Earnings > 400000 \n",
       "        AND StillWorking = 'no';\n",
       "    \n",
       "```"
      ],
      "text/plain": [
       "<IPython.core.display.Markdown object>"
      ]
     },
     "metadata": {},
     "output_type": "display_data"
    },
    {
     "data": {
      "text/markdown": [
       "**Execution Time: 0.0381 seconds**"
      ],
      "text/plain": [
       "<IPython.core.display.Markdown object>"
      ]
     },
     "metadata": {},
     "output_type": "display_data"
    },
    {
     "data": {
      "text/markdown": [
       "\n",
       "Results:"
      ],
      "text/plain": [
       "<IPython.core.display.Markdown object>"
      ]
     },
     "metadata": {},
     "output_type": "display_data"
    },
    {
     "data": {
      "text/html": [
       "<div>\n",
       "<style scoped>\n",
       "    .dataframe tbody tr th:only-of-type {\n",
       "        vertical-align: middle;\n",
       "    }\n",
       "\n",
       "    .dataframe tbody tr th {\n",
       "        vertical-align: top;\n",
       "    }\n",
       "\n",
       "    .dataframe thead th {\n",
       "        text-align: right;\n",
       "    }\n",
       "</style>\n",
       "<table border=\"1\" class=\"dataframe\">\n",
       "  <thead>\n",
       "    <tr style=\"text-align: right;\">\n",
       "      <th></th>\n",
       "      <th>PersonName</th>\n",
       "      <th>SchoolName</th>\n",
       "    </tr>\n",
       "  </thead>\n",
       "  <tbody>\n",
       "    <tr>\n",
       "      <th>0</th>\n",
       "      <td>Charles Poole</td>\n",
       "      <td>University of Illinois</td>\n",
       "    </tr>\n",
       "    <tr>\n",
       "      <th>1</th>\n",
       "      <td>Vincent Walsh</td>\n",
       "      <td>University of Texas</td>\n",
       "    </tr>\n",
       "    <tr>\n",
       "      <th>2</th>\n",
       "      <td>David Lang</td>\n",
       "      <td>University of Illinois</td>\n",
       "    </tr>\n",
       "    <tr>\n",
       "      <th>3</th>\n",
       "      <td>Brianna Thompson</td>\n",
       "      <td>University of Massachusetts</td>\n",
       "    </tr>\n",
       "    <tr>\n",
       "      <th>4</th>\n",
       "      <td>Keith Robertson</td>\n",
       "      <td>University of Florida</td>\n",
       "    </tr>\n",
       "    <tr>\n",
       "      <th>...</th>\n",
       "      <td>...</td>\n",
       "      <td>...</td>\n",
       "    </tr>\n",
       "    <tr>\n",
       "      <th>5740</th>\n",
       "      <td>Rachel Weiss</td>\n",
       "      <td>University of Florida</td>\n",
       "    </tr>\n",
       "    <tr>\n",
       "      <th>5741</th>\n",
       "      <td>Brian Torres</td>\n",
       "      <td>University of Florida</td>\n",
       "    </tr>\n",
       "    <tr>\n",
       "      <th>5742</th>\n",
       "      <td>Christopher Hernandez</td>\n",
       "      <td>University of Florida</td>\n",
       "    </tr>\n",
       "    <tr>\n",
       "      <th>5743</th>\n",
       "      <td>Danielle Adams</td>\n",
       "      <td>University of Florida</td>\n",
       "    </tr>\n",
       "    <tr>\n",
       "      <th>5744</th>\n",
       "      <td>Marilyn Nichols</td>\n",
       "      <td>University of Florida</td>\n",
       "    </tr>\n",
       "  </tbody>\n",
       "</table>\n",
       "<p>5745 rows × 2 columns</p>\n",
       "</div>"
      ],
      "text/plain": [
       "                 PersonName                   SchoolName\n",
       "0             Charles Poole       University of Illinois\n",
       "1             Vincent Walsh          University of Texas\n",
       "2                David Lang       University of Illinois\n",
       "3          Brianna Thompson  University of Massachusetts\n",
       "4           Keith Robertson        University of Florida\n",
       "...                     ...                          ...\n",
       "5740           Rachel Weiss        University of Florida\n",
       "5741           Brian Torres        University of Florida\n",
       "5742  Christopher Hernandez        University of Florida\n",
       "5743         Danielle Adams        University of Florida\n",
       "5744        Marilyn Nichols        University of Florida\n",
       "\n",
       "[5745 rows x 2 columns]"
      ]
     },
     "metadata": {},
     "output_type": "display_data"
    },
    {
     "data": {
      "image/png": "[encoded data removed]",
      "text/plain": [
       "<Figure size 800x400 with 1 Axes>"
      ]
     },
     "metadata": {},
     "output_type": "display_data"
    },
    {
     "data": {
      "text/markdown": [
       "**Query 2**"
      ],
      "text/plain": [
       "<IPython.core.display.Markdown object>"
      ]
     },
     "metadata": {},
     "output_type": "display_data"
    },
    {
     "data": {
      "text/markdown": [
       "**Table: salary_data_100MB**"
      ],
      "text/plain": [
       "<IPython.core.display.Markdown object>"
      ]
     },
     "metadata": {},
     "output_type": "display_data"
    },
    {
     "data": {
      "text/markdown": [
       "SQL Query:"
      ],
      "text/plain": [
       "<IPython.core.display.Markdown object>"
      ]
     },
     "metadata": {},
     "output_type": "display_data"
    },
    {
     "data": {
      "text/markdown": [
       "```sql\n",
       "\n",
       "        SELECT DISTINCT PersonName, SchoolName\n",
       "        FROM salary_data_100MB\n",
       "        WHERE Earnings > 400000 \n",
       "        AND StillWorking = 'no';\n",
       "    \n",
       "```"
      ],
      "text/plain": [
       "<IPython.core.display.Markdown object>"
      ]
     },
     "metadata": {},
     "output_type": "display_data"
    },
    {
     "data": {
      "text/markdown": [
       "**Execution Time: 0.3501 seconds**"
      ],
      "text/plain": [
       "<IPython.core.display.Markdown object>"
      ]
     },
     "metadata": {},
     "output_type": "display_data"
    },
    {
     "data": {
      "text/markdown": [
       "\n",
       "Results:"
      ],
      "text/plain": [
       "<IPython.core.display.Markdown object>"
      ]
     },
     "metadata": {},
     "output_type": "display_data"
    },
    {
     "data": {
      "text/html": [
       "<div>\n",
       "<style scoped>\n",
       "    .dataframe tbody tr th:only-of-type {\n",
       "        vertical-align: middle;\n",
       "    }\n",
       "\n",
       "    .dataframe tbody tr th {\n",
       "        vertical-align: top;\n",
       "    }\n",
       "\n",
       "    .dataframe thead th {\n",
       "        text-align: right;\n",
       "    }\n",
       "</style>\n",
       "<table border=\"1\" class=\"dataframe\">\n",
       "  <thead>\n",
       "    <tr style=\"text-align: right;\">\n",
       "      <th></th>\n",
       "      <th>PersonName</th>\n",
       "      <th>SchoolName</th>\n",
       "    </tr>\n",
       "  </thead>\n",
       "  <tbody>\n",
       "    <tr>\n",
       "      <th>0</th>\n",
       "      <td>Christopher Barajas</td>\n",
       "      <td>University of California</td>\n",
       "    </tr>\n",
       "    <tr>\n",
       "      <th>1</th>\n",
       "      <td>Theodore Stewart</td>\n",
       "      <td>University of Texas</td>\n",
       "    </tr>\n",
       "    <tr>\n",
       "      <th>2</th>\n",
       "      <td>Jennifer Patrick MD</td>\n",
       "      <td>University of California</td>\n",
       "    </tr>\n",
       "    <tr>\n",
       "      <th>3</th>\n",
       "      <td>Brandon Williams</td>\n",
       "      <td>University of California</td>\n",
       "    </tr>\n",
       "    <tr>\n",
       "      <th>4</th>\n",
       "      <td>Rachael Mitchell</td>\n",
       "      <td>University of Massachusetts</td>\n",
       "    </tr>\n",
       "    <tr>\n",
       "      <th>...</th>\n",
       "      <td>...</td>\n",
       "      <td>...</td>\n",
       "    </tr>\n",
       "    <tr>\n",
       "      <th>34523</th>\n",
       "      <td>Lisa Luna</td>\n",
       "      <td>University of Florida</td>\n",
       "    </tr>\n",
       "    <tr>\n",
       "      <th>34524</th>\n",
       "      <td>Christian Dodson</td>\n",
       "      <td>University of Florida</td>\n",
       "    </tr>\n",
       "    <tr>\n",
       "      <th>34525</th>\n",
       "      <td>Joshua Goodman</td>\n",
       "      <td>University of Illinois</td>\n",
       "    </tr>\n",
       "    <tr>\n",
       "      <th>34526</th>\n",
       "      <td>Veronica Barrera</td>\n",
       "      <td>University of Illinois</td>\n",
       "    </tr>\n",
       "    <tr>\n",
       "      <th>34527</th>\n",
       "      <td>Mary Campbell</td>\n",
       "      <td>University of Massachusetts</td>\n",
       "    </tr>\n",
       "  </tbody>\n",
       "</table>\n",
       "<p>34528 rows × 2 columns</p>\n",
       "</div>"
      ],
      "text/plain": [
       "                PersonName                   SchoolName\n",
       "0      Christopher Barajas     University of California\n",
       "1         Theodore Stewart          University of Texas\n",
       "2      Jennifer Patrick MD     University of California\n",
       "3         Brandon Williams     University of California\n",
       "4         Rachael Mitchell  University of Massachusetts\n",
       "...                    ...                          ...\n",
       "34523            Lisa Luna        University of Florida\n",
       "34524     Christian Dodson        University of Florida\n",
       "34525       Joshua Goodman       University of Illinois\n",
       "34526     Veronica Barrera       University of Illinois\n",
       "34527        Mary Campbell  University of Massachusetts\n",
       "\n",
       "[34528 rows x 2 columns]"
      ]
     },
     "metadata": {},
     "output_type": "display_data"
    },
    {
     "data": {
      "image/png": "[encoded data removed]",
      "text/plain": [
       "<Figure size 800x400 with 1 Axes>"
      ]
     },
     "metadata": {},
     "output_type": "display_data"
    },
    {
     "data": {
      "text/markdown": [
       "\n",
       "=================================================="
      ],
      "text/plain": [
       "<IPython.core.display.Markdown object>"
      ]
     },
     "metadata": {},
     "output_type": "display_data"
    },
    {
     "data": {
      "text/markdown": [
       "**Executing Query 3 across all database sizes**"
      ],
      "text/plain": [
       "<IPython.core.display.Markdown object>"
      ]
     },
     "metadata": {},
     "output_type": "display_data"
    },
    {
     "data": {
      "text/markdown": [
       "==================================================\n"
      ],
      "text/plain": [
       "<IPython.core.display.Markdown object>"
      ]
     },
     "metadata": {},
     "output_type": "display_data"
    },
    {
     "data": {
      "text/markdown": [
       "**Query 3**"
      ],
      "text/plain": [
       "<IPython.core.display.Markdown object>"
      ]
     },
     "metadata": {},
     "output_type": "display_data"
    },
    {
     "data": {
      "text/markdown": [
       "**Table: salary_data_1MB**"
      ],
      "text/plain": [
       "<IPython.core.display.Markdown object>"
      ]
     },
     "metadata": {},
     "output_type": "display_data"
    },
    {
     "data": {
      "text/markdown": [
       "SQL Query:"
      ],
      "text/plain": [
       "<IPython.core.display.Markdown object>"
      ]
     },
     "metadata": {},
     "output_type": "display_data"
    },
    {
     "data": {
      "text/markdown": [
       "```sql\n",
       "\n",
       "        SELECT PersonName \n",
       "        FROM salary_data_1MB \n",
       "        WHERE SchoolName LIKE '%University of Texas%' \n",
       "        AND JobTitle = 'Lecturer' \n",
       "        AND StillWorking = 'no';\n",
       "    \n",
       "```"
      ],
      "text/plain": [
       "<IPython.core.display.Markdown object>"
      ]
     },
     "metadata": {},
     "output_type": "display_data"
    },
    {
     "data": {
      "text/markdown": [
       "**Execution Time: 0.0000 seconds**"
      ],
      "text/plain": [
       "<IPython.core.display.Markdown object>"
      ]
     },
     "metadata": {},
     "output_type": "display_data"
    },
    {
     "data": {
      "text/markdown": [
       "\n",
       "Results:"
      ],
      "text/plain": [
       "<IPython.core.display.Markdown object>"
      ]
     },
     "metadata": {},
     "output_type": "display_data"
    },
    {
     "data": {
      "text/html": [
       "<div>\n",
       "<style scoped>\n",
       "    .dataframe tbody tr th:only-of-type {\n",
       "        vertical-align: middle;\n",
       "    }\n",
       "\n",
       "    .dataframe tbody tr th {\n",
       "        vertical-align: top;\n",
       "    }\n",
       "\n",
       "    .dataframe thead th {\n",
       "        text-align: right;\n",
       "    }\n",
       "</style>\n",
       "<table border=\"1\" class=\"dataframe\">\n",
       "  <thead>\n",
       "    <tr style=\"text-align: right;\">\n",
       "      <th></th>\n",
       "      <th>PersonName</th>\n",
       "    </tr>\n",
       "  </thead>\n",
       "  <tbody>\n",
       "    <tr>\n",
       "      <th>0</th>\n",
       "      <td>Jackson Becker</td>\n",
       "    </tr>\n",
       "    <tr>\n",
       "      <th>1</th>\n",
       "      <td>Veronica Blackburn</td>\n",
       "    </tr>\n",
       "    <tr>\n",
       "      <th>2</th>\n",
       "      <td>Veronica Blackburn</td>\n",
       "    </tr>\n",
       "    <tr>\n",
       "      <th>3</th>\n",
       "      <td>Kayla Stevenson</td>\n",
       "    </tr>\n",
       "    <tr>\n",
       "      <th>4</th>\n",
       "      <td>Scott Castillo</td>\n",
       "    </tr>\n",
       "    <tr>\n",
       "      <th>...</th>\n",
       "      <td>...</td>\n",
       "    </tr>\n",
       "    <tr>\n",
       "      <th>181</th>\n",
       "      <td>Kevin Dean</td>\n",
       "    </tr>\n",
       "    <tr>\n",
       "      <th>182</th>\n",
       "      <td>Louis Leblanc</td>\n",
       "    </tr>\n",
       "    <tr>\n",
       "      <th>183</th>\n",
       "      <td>Scott Mcclure</td>\n",
       "    </tr>\n",
       "    <tr>\n",
       "      <th>184</th>\n",
       "      <td>Scott Mcclure</td>\n",
       "    </tr>\n",
       "    <tr>\n",
       "      <th>185</th>\n",
       "      <td>Joshua Davis</td>\n",
       "    </tr>\n",
       "  </tbody>\n",
       "</table>\n",
       "<p>186 rows × 1 columns</p>\n",
       "</div>"
      ],
      "text/plain": [
       "             PersonName\n",
       "0        Jackson Becker\n",
       "1    Veronica Blackburn\n",
       "2    Veronica Blackburn\n",
       "3       Kayla Stevenson\n",
       "4        Scott Castillo\n",
       "..                  ...\n",
       "181          Kevin Dean\n",
       "182       Louis Leblanc\n",
       "183       Scott Mcclure\n",
       "184       Scott Mcclure\n",
       "185        Joshua Davis\n",
       "\n",
       "[186 rows x 1 columns]"
      ]
     },
     "metadata": {},
     "output_type": "display_data"
    },
    {
     "data": {
      "image/png": "[encoded data removed]",
      "text/plain": [
       "<Figure size 800x400 with 1 Axes>"
      ]
     },
     "metadata": {},
     "output_type": "display_data"
    },
    {
     "data": {
      "text/markdown": [
       "**Query 3**"
      ],
      "text/plain": [
       "<IPython.core.display.Markdown object>"
      ]
     },
     "metadata": {},
     "output_type": "display_data"
    },
    {
     "data": {
      "text/markdown": [
       "**Table: salary_data_10MB**"
      ],
      "text/plain": [
       "<IPython.core.display.Markdown object>"
      ]
     },
     "metadata": {},
     "output_type": "display_data"
    },
    {
     "data": {
      "text/markdown": [
       "SQL Query:"
      ],
      "text/plain": [
       "<IPython.core.display.Markdown object>"
      ]
     },
     "metadata": {},
     "output_type": "display_data"
    },
    {
     "data": {
      "text/markdown": [
       "```sql\n",
       "\n",
       "        SELECT PersonName \n",
       "        FROM salary_data_10MB \n",
       "        WHERE SchoolName LIKE '%University of Texas%' \n",
       "        AND JobTitle = 'Lecturer' \n",
       "        AND StillWorking = 'no';\n",
       "    \n",
       "```"
      ],
      "text/plain": [
       "<IPython.core.display.Markdown object>"
      ]
     },
     "metadata": {},
     "output_type": "display_data"
    },
    {
     "data": {
      "text/markdown": [
       "**Execution Time: 0.0333 seconds**"
      ],
      "text/plain": [
       "<IPython.core.display.Markdown object>"
      ]
     },
     "metadata": {},
     "output_type": "display_data"
    },
    {
     "data": {
      "text/markdown": [
       "\n",
       "Results:"
      ],
      "text/plain": [
       "<IPython.core.display.Markdown object>"
      ]
     },
     "metadata": {},
     "output_type": "display_data"
    },
    {
     "data": {
      "text/html": [
       "<div>\n",
       "<style scoped>\n",
       "    .dataframe tbody tr th:only-of-type {\n",
       "        vertical-align: middle;\n",
       "    }\n",
       "\n",
       "    .dataframe tbody tr th {\n",
       "        vertical-align: top;\n",
       "    }\n",
       "\n",
       "    .dataframe thead th {\n",
       "        text-align: right;\n",
       "    }\n",
       "</style>\n",
       "<table border=\"1\" class=\"dataframe\">\n",
       "  <thead>\n",
       "    <tr style=\"text-align: right;\">\n",
       "      <th></th>\n",
       "      <th>PersonName</th>\n",
       "    </tr>\n",
       "  </thead>\n",
       "  <tbody>\n",
       "    <tr>\n",
       "      <th>0</th>\n",
       "      <td>Devin Cardenas</td>\n",
       "    </tr>\n",
       "    <tr>\n",
       "      <th>1</th>\n",
       "      <td>Kevin Wood</td>\n",
       "    </tr>\n",
       "    <tr>\n",
       "      <th>2</th>\n",
       "      <td>Zachary Moreno</td>\n",
       "    </tr>\n",
       "    <tr>\n",
       "      <th>3</th>\n",
       "      <td>Zachary Moreno</td>\n",
       "    </tr>\n",
       "    <tr>\n",
       "      <th>4</th>\n",
       "      <td>Zachary Moreno</td>\n",
       "    </tr>\n",
       "    <tr>\n",
       "      <th>...</th>\n",
       "      <td>...</td>\n",
       "    </tr>\n",
       "    <tr>\n",
       "      <th>1949</th>\n",
       "      <td>Monica Bowers</td>\n",
       "    </tr>\n",
       "    <tr>\n",
       "      <th>1950</th>\n",
       "      <td>Monica Bowers</td>\n",
       "    </tr>\n",
       "    <tr>\n",
       "      <th>1951</th>\n",
       "      <td>Erik Gutierrez</td>\n",
       "    </tr>\n",
       "    <tr>\n",
       "      <th>1952</th>\n",
       "      <td>Nicholas Cook</td>\n",
       "    </tr>\n",
       "    <tr>\n",
       "      <th>1953</th>\n",
       "      <td>Robert Harvey</td>\n",
       "    </tr>\n",
       "  </tbody>\n",
       "</table>\n",
       "<p>1954 rows × 1 columns</p>\n",
       "</div>"
      ],
      "text/plain": [
       "          PersonName\n",
       "0     Devin Cardenas\n",
       "1         Kevin Wood\n",
       "2     Zachary Moreno\n",
       "3     Zachary Moreno\n",
       "4     Zachary Moreno\n",
       "...              ...\n",
       "1949   Monica Bowers\n",
       "1950   Monica Bowers\n",
       "1951  Erik Gutierrez\n",
       "1952   Nicholas Cook\n",
       "1953   Robert Harvey\n",
       "\n",
       "[1954 rows x 1 columns]"
      ]
     },
     "metadata": {},
     "output_type": "display_data"
    },
    {
     "data": {
      "image/png": "[encoded data removed]",
      "text/plain": [
       "<Figure size 800x400 with 1 Axes>"
      ]
     },
     "metadata": {},
     "output_type": "display_data"
    },
    {
     "data": {
      "text/markdown": [
       "**Query 3**"
      ],
      "text/plain": [
       "<IPython.core.display.Markdown object>"
      ]
     },
     "metadata": {},
     "output_type": "display_data"
    },
    {
     "data": {
      "text/markdown": [
       "**Table: salary_data_100MB**"
      ],
      "text/plain": [
       "<IPython.core.display.Markdown object>"
      ]
     },
     "metadata": {},
     "output_type": "display_data"
    },
    {
     "data": {
      "text/markdown": [
       "SQL Query:"
      ],
      "text/plain": [
       "<IPython.core.display.Markdown object>"
      ]
     },
     "metadata": {},
     "output_type": "display_data"
    },
    {
     "data": {
      "text/markdown": [
       "```sql\n",
       "\n",
       "        SELECT PersonName \n",
       "        FROM salary_data_100MB \n",
       "        WHERE SchoolName LIKE '%University of Texas%' \n",
       "        AND JobTitle = 'Lecturer' \n",
       "        AND StillWorking = 'no';\n",
       "    \n",
       "```"
      ],
      "text/plain": [
       "<IPython.core.display.Markdown object>"
      ]
     },
     "metadata": {},
     "output_type": "display_data"
    },
    {
     "data": {
      "text/markdown": [
       "**Execution Time: 0.3005 seconds**"
      ],
      "text/plain": [
       "<IPython.core.display.Markdown object>"
      ]
     },
     "metadata": {},
     "output_type": "display_data"
    },
    {
     "data": {
      "text/markdown": [
       "\n",
       "Results:"
      ],
      "text/plain": [
       "<IPython.core.display.Markdown object>"
      ]
     },
     "metadata": {},
     "output_type": "display_data"
    },
    {
     "data": {
      "text/html": [
       "<div>\n",
       "<style scoped>\n",
       "    .dataframe tbody tr th:only-of-type {\n",
       "        vertical-align: middle;\n",
       "    }\n",
       "\n",
       "    .dataframe tbody tr th {\n",
       "        vertical-align: top;\n",
       "    }\n",
       "\n",
       "    .dataframe thead th {\n",
       "        text-align: right;\n",
       "    }\n",
       "</style>\n",
       "<table border=\"1\" class=\"dataframe\">\n",
       "  <thead>\n",
       "    <tr style=\"text-align: right;\">\n",
       "      <th></th>\n",
       "      <th>PersonName</th>\n",
       "    </tr>\n",
       "  </thead>\n",
       "  <tbody>\n",
       "    <tr>\n",
       "      <th>0</th>\n",
       "      <td>Theodore Stewart</td>\n",
       "    </tr>\n",
       "    <tr>\n",
       "      <th>1</th>\n",
       "      <td>Theodore Stewart</td>\n",
       "    </tr>\n",
       "    <tr>\n",
       "      <th>2</th>\n",
       "      <td>Karen Potts</td>\n",
       "    </tr>\n",
       "    <tr>\n",
       "      <th>3</th>\n",
       "      <td>Karen Potts</td>\n",
       "    </tr>\n",
       "    <tr>\n",
       "      <th>4</th>\n",
       "      <td>John Rodriguez</td>\n",
       "    </tr>\n",
       "    <tr>\n",
       "      <th>...</th>\n",
       "      <td>...</td>\n",
       "    </tr>\n",
       "    <tr>\n",
       "      <th>19075</th>\n",
       "      <td>John Stevens</td>\n",
       "    </tr>\n",
       "    <tr>\n",
       "      <th>19076</th>\n",
       "      <td>Peter Vargas DVM</td>\n",
       "    </tr>\n",
       "    <tr>\n",
       "      <th>19077</th>\n",
       "      <td>Christopher Hogan</td>\n",
       "    </tr>\n",
       "    <tr>\n",
       "      <th>19078</th>\n",
       "      <td>Christopher Hogan</td>\n",
       "    </tr>\n",
       "    <tr>\n",
       "      <th>19079</th>\n",
       "      <td>Christopher Hogan</td>\n",
       "    </tr>\n",
       "  </tbody>\n",
       "</table>\n",
       "<p>19080 rows × 1 columns</p>\n",
       "</div>"
      ],
      "text/plain": [
       "              PersonName\n",
       "0       Theodore Stewart\n",
       "1       Theodore Stewart\n",
       "2            Karen Potts\n",
       "3            Karen Potts\n",
       "4         John Rodriguez\n",
       "...                  ...\n",
       "19075       John Stevens\n",
       "19076   Peter Vargas DVM\n",
       "19077  Christopher Hogan\n",
       "19078  Christopher Hogan\n",
       "19079  Christopher Hogan\n",
       "\n",
       "[19080 rows x 1 columns]"
      ]
     },
     "metadata": {},
     "output_type": "display_data"
    },
    {
     "data": {
      "image/png": "[encoded data removed]",
      "text/plain": [
       "<Figure size 800x400 with 1 Axes>"
      ]
     },
     "metadata": {},
     "output_type": "display_data"
    },
    {
     "data": {
      "text/markdown": [
       "\n",
       "=================================================="
      ],
      "text/plain": [
       "<IPython.core.display.Markdown object>"
      ]
     },
     "metadata": {},
     "output_type": "display_data"
    },
    {
     "data": {
      "text/markdown": [
       "**Executing Query 4 across all database sizes**"
      ],
      "text/plain": [
       "<IPython.core.display.Markdown object>"
      ]
     },
     "metadata": {},
     "output_type": "display_data"
    },
    {
     "data": {
      "text/markdown": [
       "==================================================\n"
      ],
      "text/plain": [
       "<IPython.core.display.Markdown object>"
      ]
     },
     "metadata": {},
     "output_type": "display_data"
    },
    {
     "data": {
      "text/markdown": [
       "**Query 4**"
      ],
      "text/plain": [
       "<IPython.core.display.Markdown object>"
      ]
     },
     "metadata": {},
     "output_type": "display_data"
    },
    {
     "data": {
      "text/markdown": [
       "**Table: salary_data_1MB**"
      ],
      "text/plain": [
       "<IPython.core.display.Markdown object>"
      ]
     },
     "metadata": {},
     "output_type": "display_data"
    },
    {
     "data": {
      "text/markdown": [
       "SQL Query:"
      ],
      "text/plain": [
       "<IPython.core.display.Markdown object>"
      ]
     },
     "metadata": {},
     "output_type": "display_data"
    },
    {
     "data": {
      "text/markdown": [
       "```sql\n",
       "\n",
       "        SELECT SchoolName, SchoolCampus, COUNT(*) as ActiveFacultyCount\n",
       "        FROM salary_data_1MB\n",
       "        WHERE StillWorking = 'yes'\n",
       "        GROUP BY SchoolName, SchoolCampus\n",
       "        ORDER BY ActiveFacultyCount DESC\n",
       "        LIMIT 1;\n",
       "    \n",
       "```"
      ],
      "text/plain": [
       "<IPython.core.display.Markdown object>"
      ]
     },
     "metadata": {},
     "output_type": "display_data"
    },
    {
     "data": {
      "text/markdown": [
       "**Execution Time: 0.0166 seconds**"
      ],
      "text/plain": [
       "<IPython.core.display.Markdown object>"
      ]
     },
     "metadata": {},
     "output_type": "display_data"
    },
    {
     "data": {
      "text/markdown": [
       "\n",
       "Results:"
      ],
      "text/plain": [
       "<IPython.core.display.Markdown object>"
      ]
     },
     "metadata": {},
     "output_type": "display_data"
    },
    {
     "data": {
      "text/html": [
       "<div>\n",
       "<style scoped>\n",
       "    .dataframe tbody tr th:only-of-type {\n",
       "        vertical-align: middle;\n",
       "    }\n",
       "\n",
       "    .dataframe tbody tr th {\n",
       "        vertical-align: top;\n",
       "    }\n",
       "\n",
       "    .dataframe thead th {\n",
       "        text-align: right;\n",
       "    }\n",
       "</style>\n",
       "<table border=\"1\" class=\"dataframe\">\n",
       "  <thead>\n",
       "    <tr style=\"text-align: right;\">\n",
       "      <th></th>\n",
       "      <th>SchoolName</th>\n",
       "      <th>SchoolCampus</th>\n",
       "      <th>ActiveFacultyCount</th>\n",
       "    </tr>\n",
       "  </thead>\n",
       "  <tbody>\n",
       "    <tr>\n",
       "      <th>0</th>\n",
       "      <td>University of Illinois</td>\n",
       "      <td>Springfield</td>\n",
       "      <td>69</td>\n",
       "    </tr>\n",
       "  </tbody>\n",
       "</table>\n",
       "</div>"
      ],
      "text/plain": [
       "               SchoolName SchoolCampus  ActiveFacultyCount\n",
       "0  University of Illinois  Springfield                  69"
      ]
     },
     "metadata": {},
     "output_type": "display_data"
    },
    {
     "data": {
      "image/png": "[encoded data removed]",
      "text/plain": [
       "<Figure size 800x400 with 1 Axes>"
      ]
     },
     "metadata": {},
     "output_type": "display_data"
    },
    {
     "data": {
      "text/markdown": [
       "**Query 4**"
      ],
      "text/plain": [
       "<IPython.core.display.Markdown object>"
      ]
     },
     "metadata": {},
     "output_type": "display_data"
    },
    {
     "data": {
      "text/markdown": [
       "**Table: salary_data_10MB**"
      ],
      "text/plain": [
       "<IPython.core.display.Markdown object>"
      ]
     },
     "metadata": {},
     "output_type": "display_data"
    },
    {
     "data": {
      "text/markdown": [
       "SQL Query:"
      ],
      "text/plain": [
       "<IPython.core.display.Markdown object>"
      ]
     },
     "metadata": {},
     "output_type": "display_data"
    },
    {
     "data": {
      "text/markdown": [
       "```sql\n",
       "\n",
       "        SELECT SchoolName, SchoolCampus, COUNT(*) as ActiveFacultyCount\n",
       "        FROM salary_data_10MB\n",
       "        WHERE StillWorking = 'yes'\n",
       "        GROUP BY SchoolName, SchoolCampus\n",
       "        ORDER BY ActiveFacultyCount DESC\n",
       "        LIMIT 1;\n",
       "    \n",
       "```"
      ],
      "text/plain": [
       "<IPython.core.display.Markdown object>"
      ]
     },
     "metadata": {},
     "output_type": "display_data"
    },
    {
     "data": {
      "text/markdown": [
       "**Execution Time: 0.0000 seconds**"
      ],
      "text/plain": [
       "<IPython.core.display.Markdown object>"
      ]
     },
     "metadata": {},
     "output_type": "display_data"
    },
    {
     "data": {
      "text/markdown": [
       "\n",
       "Results:"
      ],
      "text/plain": [
       "<IPython.core.display.Markdown object>"
      ]
     },
     "metadata": {},
     "output_type": "display_data"
    },
    {
     "data": {
      "text/html": [
       "<div>\n",
       "<style scoped>\n",
       "    .dataframe tbody tr th:only-of-type {\n",
       "        vertical-align: middle;\n",
       "    }\n",
       "\n",
       "    .dataframe tbody tr th {\n",
       "        vertical-align: top;\n",
       "    }\n",
       "\n",
       "    .dataframe thead th {\n",
       "        text-align: right;\n",
       "    }\n",
       "</style>\n",
       "<table border=\"1\" class=\"dataframe\">\n",
       "  <thead>\n",
       "    <tr style=\"text-align: right;\">\n",
       "      <th></th>\n",
       "      <th>SchoolName</th>\n",
       "      <th>SchoolCampus</th>\n",
       "      <th>ActiveFacultyCount</th>\n",
       "    </tr>\n",
       "  </thead>\n",
       "  <tbody>\n",
       "    <tr>\n",
       "      <th>0</th>\n",
       "      <td>University of Massachusetts</td>\n",
       "      <td>Dartmouth</td>\n",
       "      <td>273</td>\n",
       "    </tr>\n",
       "  </tbody>\n",
       "</table>\n",
       "</div>"
      ],
      "text/plain": [
       "                    SchoolName SchoolCampus  ActiveFacultyCount\n",
       "0  University of Massachusetts    Dartmouth                 273"
      ]
     },
     "metadata": {},
     "output_type": "display_data"
    },
    {
     "data": {
      "image/png": "[encoded data removed]",
      "text/plain": [
       "<Figure size 800x400 with 1 Axes>"
      ]
     },
     "metadata": {},
     "output_type": "display_data"
    },
    {
     "data": {
      "text/markdown": [
       "**Query 4**"
      ],
      "text/plain": [
       "<IPython.core.display.Markdown object>"
      ]
     },
     "metadata": {},
     "output_type": "display_data"
    },
    {
     "data": {
      "text/markdown": [
       "**Table: salary_data_100MB**"
      ],
      "text/plain": [
       "<IPython.core.display.Markdown object>"
      ]
     },
     "metadata": {},
     "output_type": "display_data"
    },
    {
     "data": {
      "text/markdown": [
       "SQL Query:"
      ],
      "text/plain": [
       "<IPython.core.display.Markdown object>"
      ]
     },
     "metadata": {},
     "output_type": "display_data"
    },
    {
     "data": {
      "text/markdown": [
       "```sql\n",
       "\n",
       "        SELECT SchoolName, SchoolCampus, COUNT(*) as ActiveFacultyCount\n",
       "        FROM salary_data_100MB\n",
       "        WHERE StillWorking = 'yes'\n",
       "        GROUP BY SchoolName, SchoolCampus\n",
       "        ORDER BY ActiveFacultyCount DESC\n",
       "        LIMIT 1;\n",
       "    \n",
       "```"
      ],
      "text/plain": [
       "<IPython.core.display.Markdown object>"
      ]
     },
     "metadata": {},
     "output_type": "display_data"
    },
    {
     "data": {
      "text/markdown": [
       "**Execution Time: 0.0885 seconds**"
      ],
      "text/plain": [
       "<IPython.core.display.Markdown object>"
      ]
     },
     "metadata": {},
     "output_type": "display_data"
    },
    {
     "data": {
      "text/markdown": [
       "\n",
       "Results:"
      ],
      "text/plain": [
       "<IPython.core.display.Markdown object>"
      ]
     },
     "metadata": {},
     "output_type": "display_data"
    },
    {
     "data": {
      "text/html": [
       "<div>\n",
       "<style scoped>\n",
       "    .dataframe tbody tr th:only-of-type {\n",
       "        vertical-align: middle;\n",
       "    }\n",
       "\n",
       "    .dataframe tbody tr th {\n",
       "        vertical-align: top;\n",
       "    }\n",
       "\n",
       "    .dataframe thead th {\n",
       "        text-align: right;\n",
       "    }\n",
       "</style>\n",
       "<table border=\"1\" class=\"dataframe\">\n",
       "  <thead>\n",
       "    <tr style=\"text-align: right;\">\n",
       "      <th></th>\n",
       "      <th>SchoolName</th>\n",
       "      <th>SchoolCampus</th>\n",
       "      <th>ActiveFacultyCount</th>\n",
       "    </tr>\n",
       "  </thead>\n",
       "  <tbody>\n",
       "    <tr>\n",
       "      <th>0</th>\n",
       "      <td>University of Massachusetts</td>\n",
       "      <td>Dartmouth</td>\n",
       "      <td>2874</td>\n",
       "    </tr>\n",
       "  </tbody>\n",
       "</table>\n",
       "</div>"
      ],
      "text/plain": [
       "                    SchoolName SchoolCampus  ActiveFacultyCount\n",
       "0  University of Massachusetts    Dartmouth                2874"
      ]
     },
     "metadata": {},
     "output_type": "display_data"
    },
    {
     "data": {
      "image/png": "[encoded data removed]",
      "text/plain": [
       "<Figure size 800x400 with 1 Axes>"
      ]
     },
     "metadata": {},
     "output_type": "display_data"
    },
    {
     "data": {
      "text/markdown": [
       "\n",
       "=================================================="
      ],
      "text/plain": [
       "<IPython.core.display.Markdown object>"
      ]
     },
     "metadata": {},
     "output_type": "display_data"
    },
    {
     "data": {
      "text/markdown": [
       "**Executing Query 5 across all database sizes**"
      ],
      "text/plain": [
       "<IPython.core.display.Markdown object>"
      ]
     },
     "metadata": {},
     "output_type": "display_data"
    },
    {
     "data": {
      "text/markdown": [
       "==================================================\n"
      ],
      "text/plain": [
       "<IPython.core.display.Markdown object>"
      ]
     },
     "metadata": {},
     "output_type": "display_data"
    },
    {
     "data": {
      "text/markdown": [
       "**Query 5**"
      ],
      "text/plain": [
       "<IPython.core.display.Markdown object>"
      ]
     },
     "metadata": {},
     "output_type": "display_data"
    },
    {
     "data": {
      "text/markdown": [
       "**Table: salary_data_1MB**"
      ],
      "text/plain": [
       "<IPython.core.display.Markdown object>"
      ]
     },
     "metadata": {},
     "output_type": "display_data"
    },
    {
     "data": {
      "text/markdown": [
       "SQL Query:"
      ],
      "text/plain": [
       "<IPython.core.display.Markdown object>"
      ]
     },
     "metadata": {},
     "output_type": "display_data"
    },
    {
     "data": {
      "text/markdown": [
       "```sql\n",
       "\n",
       "        SELECT PersonName, JobTitle, DepartmentName, SchoolName, Earnings\n",
       "        FROM salary_data_1MB\n",
       "        WHERE PersonName LIKE '%Vinay Shetye%'\n",
       "        AND EarningsYear = (\n",
       "            SELECT MAX(EarningsYear)\n",
       "            FROM salary_data_1MB\n",
       "            WHERE PersonName LIKE '%Vinay Shetye%'\n",
       "        );\n",
       "    \n",
       "```"
      ],
      "text/plain": [
       "<IPython.core.display.Markdown object>"
      ]
     },
     "metadata": {},
     "output_type": "display_data"
    },
    {
     "data": {
      "text/markdown": [
       "**Execution Time: 0.0151 seconds**"
      ],
      "text/plain": [
       "<IPython.core.display.Markdown object>"
      ]
     },
     "metadata": {},
     "output_type": "display_data"
    },
    {
     "data": {
      "text/markdown": [
       "\n",
       "Results:"
      ],
      "text/plain": [
       "<IPython.core.display.Markdown object>"
      ]
     },
     "metadata": {},
     "output_type": "display_data"
    },
    {
     "data": {
      "text/html": [
       "<div>\n",
       "<style scoped>\n",
       "    .dataframe tbody tr th:only-of-type {\n",
       "        vertical-align: middle;\n",
       "    }\n",
       "\n",
       "    .dataframe tbody tr th {\n",
       "        vertical-align: top;\n",
       "    }\n",
       "\n",
       "    .dataframe thead th {\n",
       "        text-align: right;\n",
       "    }\n",
       "</style>\n",
       "<table border=\"1\" class=\"dataframe\">\n",
       "  <thead>\n",
       "    <tr style=\"text-align: right;\">\n",
       "      <th></th>\n",
       "      <th>PersonName</th>\n",
       "      <th>JobTitle</th>\n",
       "      <th>DepartmentName</th>\n",
       "      <th>SchoolName</th>\n",
       "      <th>Earnings</th>\n",
       "    </tr>\n",
       "  </thead>\n",
       "  <tbody>\n",
       "    <tr>\n",
       "      <th>0</th>\n",
       "      <td>Vinay Shetye</td>\n",
       "      <td>Engineer</td>\n",
       "      <td>Computer Science</td>\n",
       "      <td>University of Massachusetts</td>\n",
       "      <td>275731.0</td>\n",
       "    </tr>\n",
       "  </tbody>\n",
       "</table>\n",
       "</div>"
      ],
      "text/plain": [
       "     PersonName  JobTitle    DepartmentName                   SchoolName  \\\n",
       "0  Vinay Shetye  Engineer  Computer Science  University of Massachusetts   \n",
       "\n",
       "   Earnings  \n",
       "0  275731.0  "
      ]
     },
     "metadata": {},
     "output_type": "display_data"
    },
    {
     "data": {
      "image/png": "[encoded data removed]",
      "text/plain": [
       "<Figure size 800x400 with 1 Axes>"
      ]
     },
     "metadata": {},
     "output_type": "display_data"
    },
    {
     "data": {
      "text/markdown": [
       "**Query 5**"
      ],
      "text/plain": [
       "<IPython.core.display.Markdown object>"
      ]
     },
     "metadata": {},
     "output_type": "display_data"
    },
    {
     "data": {
      "text/markdown": [
       "**Table: salary_data_10MB**"
      ],
      "text/plain": [
       "<IPython.core.display.Markdown object>"
      ]
     },
     "metadata": {},
     "output_type": "display_data"
    },
    {
     "data": {
      "text/markdown": [
       "SQL Query:"
      ],
      "text/plain": [
       "<IPython.core.display.Markdown object>"
      ]
     },
     "metadata": {},
     "output_type": "display_data"
    },
    {
     "data": {
      "text/markdown": [
       "```sql\n",
       "\n",
       "        SELECT PersonName, JobTitle, DepartmentName, SchoolName, Earnings\n",
       "        FROM salary_data_10MB\n",
       "        WHERE PersonName LIKE '%Vinay Shetye%'\n",
       "        AND EarningsYear = (\n",
       "            SELECT MAX(EarningsYear)\n",
       "            FROM salary_data_10MB\n",
       "            WHERE PersonName LIKE '%Vinay Shetye%'\n",
       "        );\n",
       "    \n",
       "```"
      ],
      "text/plain": [
       "<IPython.core.display.Markdown object>"
      ]
     },
     "metadata": {},
     "output_type": "display_data"
    },
    {
     "data": {
      "text/markdown": [
       "**Execution Time: 0.0343 seconds**"
      ],
      "text/plain": [
       "<IPython.core.display.Markdown object>"
      ]
     },
     "metadata": {},
     "output_type": "display_data"
    },
    {
     "data": {
      "text/markdown": [
       "\n",
       "Results:"
      ],
      "text/plain": [
       "<IPython.core.display.Markdown object>"
      ]
     },
     "metadata": {},
     "output_type": "display_data"
    },
    {
     "data": {
      "text/html": [
       "<div>\n",
       "<style scoped>\n",
       "    .dataframe tbody tr th:only-of-type {\n",
       "        vertical-align: middle;\n",
       "    }\n",
       "\n",
       "    .dataframe tbody tr th {\n",
       "        vertical-align: top;\n",
       "    }\n",
       "\n",
       "    .dataframe thead th {\n",
       "        text-align: right;\n",
       "    }\n",
       "</style>\n",
       "<table border=\"1\" class=\"dataframe\">\n",
       "  <thead>\n",
       "    <tr style=\"text-align: right;\">\n",
       "      <th></th>\n",
       "      <th>PersonName</th>\n",
       "      <th>JobTitle</th>\n",
       "      <th>DepartmentName</th>\n",
       "      <th>SchoolName</th>\n",
       "      <th>Earnings</th>\n",
       "    </tr>\n",
       "  </thead>\n",
       "  <tbody>\n",
       "    <tr>\n",
       "      <th>0</th>\n",
       "      <td>Vinay Shetye</td>\n",
       "      <td>Administrator</td>\n",
       "      <td>Chemistry</td>\n",
       "      <td>University of Massachusetts</td>\n",
       "      <td>165496.0</td>\n",
       "    </tr>\n",
       "  </tbody>\n",
       "</table>\n",
       "</div>"
      ],
      "text/plain": [
       "     PersonName       JobTitle DepartmentName                   SchoolName  \\\n",
       "0  Vinay Shetye  Administrator      Chemistry  University of Massachusetts   \n",
       "\n",
       "   Earnings  \n",
       "0  165496.0  "
      ]
     },
     "metadata": {},
     "output_type": "display_data"
    },
    {
     "data": {
      "image/png": "[encoded data removed]",
      "text/plain": [
       "<Figure size 800x400 with 1 Axes>"
      ]
     },
     "metadata": {},
     "output_type": "display_data"
    },
    {
     "data": {
      "text/markdown": [
       "**Query 5**"
      ],
      "text/plain": [
       "<IPython.core.display.Markdown object>"
      ]
     },
     "metadata": {},
     "output_type": "display_data"
    },
    {
     "data": {
      "text/markdown": [
       "**Table: salary_data_100MB**"
      ],
      "text/plain": [
       "<IPython.core.display.Markdown object>"
      ]
     },
     "metadata": {},
     "output_type": "display_data"
    },
    {
     "data": {
      "text/markdown": [
       "SQL Query:"
      ],
      "text/plain": [
       "<IPython.core.display.Markdown object>"
      ]
     },
     "metadata": {},
     "output_type": "display_data"
    },
    {
     "data": {
      "text/markdown": [
       "```sql\n",
       "\n",
       "        SELECT PersonName, JobTitle, DepartmentName, SchoolName, Earnings\n",
       "        FROM salary_data_100MB\n",
       "        WHERE PersonName LIKE '%Vinay Shetye%'\n",
       "        AND EarningsYear = (\n",
       "            SELECT MAX(EarningsYear)\n",
       "            FROM salary_data_100MB\n",
       "            WHERE PersonName LIKE '%Vinay Shetye%'\n",
       "        );\n",
       "    \n",
       "```"
      ],
      "text/plain": [
       "<IPython.core.display.Markdown object>"
      ]
     },
     "metadata": {},
     "output_type": "display_data"
    },
    {
     "data": {
      "text/markdown": [
       "**Execution Time: 0.2492 seconds**"
      ],
      "text/plain": [
       "<IPython.core.display.Markdown object>"
      ]
     },
     "metadata": {},
     "output_type": "display_data"
    },
    {
     "data": {
      "text/markdown": [
       "\n",
       "Results:"
      ],
      "text/plain": [
       "<IPython.core.display.Markdown object>"
      ]
     },
     "metadata": {},
     "output_type": "display_data"
    },
    {
     "data": {
      "text/html": [
       "<div>\n",
       "<style scoped>\n",
       "    .dataframe tbody tr th:only-of-type {\n",
       "        vertical-align: middle;\n",
       "    }\n",
       "\n",
       "    .dataframe tbody tr th {\n",
       "        vertical-align: top;\n",
       "    }\n",
       "\n",
       "    .dataframe thead th {\n",
       "        text-align: right;\n",
       "    }\n",
       "</style>\n",
       "<table border=\"1\" class=\"dataframe\">\n",
       "  <thead>\n",
       "    <tr style=\"text-align: right;\">\n",
       "      <th></th>\n",
       "      <th>PersonName</th>\n",
       "      <th>JobTitle</th>\n",
       "      <th>DepartmentName</th>\n",
       "      <th>SchoolName</th>\n",
       "      <th>Earnings</th>\n",
       "    </tr>\n",
       "  </thead>\n",
       "  <tbody>\n",
       "    <tr>\n",
       "      <th>0</th>\n",
       "      <td>Vinay Shetye</td>\n",
       "      <td>Scientist</td>\n",
       "      <td>Computer Engineering</td>\n",
       "      <td>University of Massachusetts</td>\n",
       "      <td>330427.0</td>\n",
       "    </tr>\n",
       "  </tbody>\n",
       "</table>\n",
       "</div>"
      ],
      "text/plain": [
       "     PersonName   JobTitle        DepartmentName                   SchoolName  \\\n",
       "0  Vinay Shetye  Scientist  Computer Engineering  University of Massachusetts   \n",
       "\n",
       "   Earnings  \n",
       "0  330427.0  "
      ]
     },
     "metadata": {},
     "output_type": "display_data"
    },
    {
     "data": {
      "image/png": "[encoded data removed]",
      "text/plain": [
       "<Figure size 800x400 with 1 Axes>"
      ]
     },
     "metadata": {},
     "output_type": "display_data"
    },
    {
     "data": {
      "text/markdown": [
       "\n",
       "=================================================="
      ],
      "text/plain": [
       "<IPython.core.display.Markdown object>"
      ]
     },
     "metadata": {},
     "output_type": "display_data"
    },
    {
     "data": {
      "text/markdown": [
       "**Executing Query 6 across all database sizes**"
      ],
      "text/plain": [
       "<IPython.core.display.Markdown object>"
      ]
     },
     "metadata": {},
     "output_type": "display_data"
    },
    {
     "data": {
      "text/markdown": [
       "==================================================\n"
      ],
      "text/plain": [
       "<IPython.core.display.Markdown object>"
      ]
     },
     "metadata": {},
     "output_type": "display_data"
    },
    {
     "data": {
      "text/markdown": [
       "**Query 6**"
      ],
      "text/plain": [
       "<IPython.core.display.Markdown object>"
      ]
     },
     "metadata": {},
     "output_type": "display_data"
    },
    {
     "data": {
      "text/markdown": [
       "**Table: salary_data_1MB**"
      ],
      "text/plain": [
       "<IPython.core.display.Markdown object>"
      ]
     },
     "metadata": {},
     "output_type": "display_data"
    },
    {
     "data": {
      "text/markdown": [
       "SQL Query:"
      ],
      "text/plain": [
       "<IPython.core.display.Markdown object>"
      ]
     },
     "metadata": {},
     "output_type": "display_data"
    },
    {
     "data": {
      "text/markdown": [
       "```sql\n",
       "\n",
       "        SELECT DepartmentName, AVG(Earnings) as AvgEarnings\n",
       "        FROM salary_data_1MB\n",
       "        GROUP BY DepartmentName\n",
       "        ORDER BY AvgEarnings DESC\n",
       "        LIMIT 1;\n",
       "    \n",
       "```"
      ],
      "text/plain": [
       "<IPython.core.display.Markdown object>"
      ]
     },
     "metadata": {},
     "output_type": "display_data"
    },
    {
     "data": {
      "text/markdown": [
       "**Execution Time: 0.0165 seconds**"
      ],
      "text/plain": [
       "<IPython.core.display.Markdown object>"
      ]
     },
     "metadata": {},
     "output_type": "display_data"
    },
    {
     "data": {
      "text/markdown": [
       "\n",
       "Results:"
      ],
      "text/plain": [
       "<IPython.core.display.Markdown object>"
      ]
     },
     "metadata": {},
     "output_type": "display_data"
    },
    {
     "data": {
      "text/html": [
       "<div>\n",
       "<style scoped>\n",
       "    .dataframe tbody tr th:only-of-type {\n",
       "        vertical-align: middle;\n",
       "    }\n",
       "\n",
       "    .dataframe tbody tr th {\n",
       "        vertical-align: top;\n",
       "    }\n",
       "\n",
       "    .dataframe thead th {\n",
       "        text-align: right;\n",
       "    }\n",
       "</style>\n",
       "<table border=\"1\" class=\"dataframe\">\n",
       "  <thead>\n",
       "    <tr style=\"text-align: right;\">\n",
       "      <th></th>\n",
       "      <th>DepartmentName</th>\n",
       "      <th>AvgEarnings</th>\n",
       "    </tr>\n",
       "  </thead>\n",
       "  <tbody>\n",
       "    <tr>\n",
       "      <th>0</th>\n",
       "      <td>Computer Engineering</td>\n",
       "      <td>251579.588575</td>\n",
       "    </tr>\n",
       "  </tbody>\n",
       "</table>\n",
       "</div>"
      ],
      "text/plain": [
       "         DepartmentName    AvgEarnings\n",
       "0  Computer Engineering  251579.588575"
      ]
     },
     "metadata": {},
     "output_type": "display_data"
    },
    {
     "data": {
      "image/png": "[encoded data removed]",
      "text/plain": [
       "<Figure size 800x400 with 1 Axes>"
      ]
     },
     "metadata": {},
     "output_type": "display_data"
    },
    {
     "data": {
      "text/markdown": [
       "**Query 6**"
      ],
      "text/plain": [
       "<IPython.core.display.Markdown object>"
      ]
     },
     "metadata": {},
     "output_type": "display_data"
    },
    {
     "data": {
      "text/markdown": [
       "**Table: salary_data_10MB**"
      ],
      "text/plain": [
       "<IPython.core.display.Markdown object>"
      ]
     },
     "metadata": {},
     "output_type": "display_data"
    },
    {
     "data": {
      "text/markdown": [
       "SQL Query:"
      ],
      "text/plain": [
       "<IPython.core.display.Markdown object>"
      ]
     },
     "metadata": {},
     "output_type": "display_data"
    },
    {
     "data": {
      "text/markdown": [
       "```sql\n",
       "\n",
       "        SELECT DepartmentName, AVG(Earnings) as AvgEarnings\n",
       "        FROM salary_data_10MB\n",
       "        GROUP BY DepartmentName\n",
       "        ORDER BY AvgEarnings DESC\n",
       "        LIMIT 1;\n",
       "    \n",
       "```"
      ],
      "text/plain": [
       "<IPython.core.display.Markdown object>"
      ]
     },
     "metadata": {},
     "output_type": "display_data"
    },
    {
     "data": {
      "text/markdown": [
       "**Execution Time: 0.0336 seconds**"
      ],
      "text/plain": [
       "<IPython.core.display.Markdown object>"
      ]
     },
     "metadata": {},
     "output_type": "display_data"
    },
    {
     "data": {
      "text/markdown": [
       "\n",
       "Results:"
      ],
      "text/plain": [
       "<IPython.core.display.Markdown object>"
      ]
     },
     "metadata": {},
     "output_type": "display_data"
    },
    {
     "data": {
      "text/html": [
       "<div>\n",
       "<style scoped>\n",
       "    .dataframe tbody tr th:only-of-type {\n",
       "        vertical-align: middle;\n",
       "    }\n",
       "\n",
       "    .dataframe tbody tr th {\n",
       "        vertical-align: top;\n",
       "    }\n",
       "\n",
       "    .dataframe thead th {\n",
       "        text-align: right;\n",
       "    }\n",
       "</style>\n",
       "<table border=\"1\" class=\"dataframe\">\n",
       "  <thead>\n",
       "    <tr style=\"text-align: right;\">\n",
       "      <th></th>\n",
       "      <th>DepartmentName</th>\n",
       "      <th>AvgEarnings</th>\n",
       "    </tr>\n",
       "  </thead>\n",
       "  <tbody>\n",
       "    <tr>\n",
       "      <th>0</th>\n",
       "      <td>Biology</td>\n",
       "      <td>240425.484315</td>\n",
       "    </tr>\n",
       "  </tbody>\n",
       "</table>\n",
       "</div>"
      ],
      "text/plain": [
       "  DepartmentName    AvgEarnings\n",
       "0        Biology  240425.484315"
      ]
     },
     "metadata": {},
     "output_type": "display_data"
    },
    {
     "data": {
      "image/png": "[encoded data removed]",
      "text/plain": [
       "<Figure size 800x400 with 1 Axes>"
      ]
     },
     "metadata": {},
     "output_type": "display_data"
    },
    {
     "data": {
      "text/markdown": [
       "**Query 6**"
      ],
      "text/plain": [
       "<IPython.core.display.Markdown object>"
      ]
     },
     "metadata": {},
     "output_type": "display_data"
    },
    {
     "data": {
      "text/markdown": [
       "**Table: salary_data_100MB**"
      ],
      "text/plain": [
       "<IPython.core.display.Markdown object>"
      ]
     },
     "metadata": {},
     "output_type": "display_data"
    },
    {
     "data": {
      "text/markdown": [
       "SQL Query:"
      ],
      "text/plain": [
       "<IPython.core.display.Markdown object>"
      ]
     },
     "metadata": {},
     "output_type": "display_data"
    },
    {
     "data": {
      "text/markdown": [
       "```sql\n",
       "\n",
       "        SELECT DepartmentName, AVG(Earnings) as AvgEarnings\n",
       "        FROM salary_data_100MB\n",
       "        GROUP BY DepartmentName\n",
       "        ORDER BY AvgEarnings DESC\n",
       "        LIMIT 1;\n",
       "    \n",
       "```"
      ],
      "text/plain": [
       "<IPython.core.display.Markdown object>"
      ]
     },
     "metadata": {},
     "output_type": "display_data"
    },
    {
     "data": {
      "text/markdown": [
       "**Execution Time: 0.5666 seconds**"
      ],
      "text/plain": [
       "<IPython.core.display.Markdown object>"
      ]
     },
     "metadata": {},
     "output_type": "display_data"
    },
    {
     "data": {
      "text/markdown": [
       "\n",
       "Results:"
      ],
      "text/plain": [
       "<IPython.core.display.Markdown object>"
      ]
     },
     "metadata": {},
     "output_type": "display_data"
    },
    {
     "data": {
      "text/html": [
       "<div>\n",
       "<style scoped>\n",
       "    .dataframe tbody tr th:only-of-type {\n",
       "        vertical-align: middle;\n",
       "    }\n",
       "\n",
       "    .dataframe tbody tr th {\n",
       "        vertical-align: top;\n",
       "    }\n",
       "\n",
       "    .dataframe thead th {\n",
       "        text-align: right;\n",
       "    }\n",
       "</style>\n",
       "<table border=\"1\" class=\"dataframe\">\n",
       "  <thead>\n",
       "    <tr style=\"text-align: right;\">\n",
       "      <th></th>\n",
       "      <th>DepartmentName</th>\n",
       "      <th>AvgEarnings</th>\n",
       "    </tr>\n",
       "  </thead>\n",
       "  <tbody>\n",
       "    <tr>\n",
       "      <th>0</th>\n",
       "      <td>Computer Engineering</td>\n",
       "      <td>236877.915586</td>\n",
       "    </tr>\n",
       "  </tbody>\n",
       "</table>\n",
       "</div>"
      ],
      "text/plain": [
       "         DepartmentName    AvgEarnings\n",
       "0  Computer Engineering  236877.915586"
      ]
     },
     "metadata": {},
     "output_type": "display_data"
    },
    {
     "data": {
      "image/png": "[encoded data removed]",
      "text/plain": [
       "<Figure size 800x400 with 1 Axes>"
      ]
     },
     "metadata": {},
     "output_type": "display_data"
    }
   ],
   "source": [
    "performance_results = {query_num: [] for query_num in queries.keys()}\n",
    "file_sizes = ['1MB', '10MB', '100MB']\n",
    "\n",
    "for query_num, query_template in queries.items():\n",
    "    display_formatted_output(f\"\\n{'='*50}\")\n",
    "    display_formatted_output(f\"Executing Query {query_num} across all database sizes\", True)\n",
    "    display_formatted_output(f\"{'='*50}\\n\")\n",
    "    \n",
    "    query_times = []\n",
    "    for table_name in table_names:\n",
    "        time_taken = measure_query_performance(db_name, table_name, query_template, query_num)\n",
    "        query_times.append(time_taken)\n",
    "    performance_results[query_num] = query_times"
   ]
  },
  {
   "cell_type": "markdown",
   "id": "7f976728-6b04-4926-a1c7-3fcac307ad75",
   "metadata": {},
   "source": [
    "# Final Performance Visualization"
   ]
  },
  {
   "cell_type": "code",
   "execution_count": 14,
   "id": "6a31bbb0-ca02-4378-822a-df988d496f4f",
   "metadata": {
    "tags": []
   },
   "outputs": [
    {
     "data": {
      "image/png": "[encoded data removed]",
      "text/plain": [
       "<Figure size 1500x1000 with 6 Axes>"
      ]
     },
     "metadata": {},
     "output_type": "display_data"
    },
    {
     "data": {
      "text/markdown": [
       "****Performance Summary (seconds):****"
      ],
      "text/plain": [
       "<IPython.core.display.Markdown object>"
      ]
     },
     "metadata": {},
     "output_type": "display_data"
    },
    {
     "data": {
      "text/html": [
       "<div>\n",
       "<style scoped>\n",
       "    .dataframe tbody tr th:only-of-type {\n",
       "        vertical-align: middle;\n",
       "    }\n",
       "\n",
       "    .dataframe tbody tr th {\n",
       "        vertical-align: top;\n",
       "    }\n",
       "\n",
       "    .dataframe thead th {\n",
       "        text-align: right;\n",
       "    }\n",
       "</style>\n",
       "<table border=\"1\" class=\"dataframe\">\n",
       "  <thead>\n",
       "    <tr style=\"text-align: right;\">\n",
       "      <th></th>\n",
       "      <th>Query 1</th>\n",
       "      <th>Query 2</th>\n",
       "      <th>Query 3</th>\n",
       "      <th>Query 4</th>\n",
       "      <th>Query 5</th>\n",
       "      <th>Query 6</th>\n",
       "    </tr>\n",
       "  </thead>\n",
       "  <tbody>\n",
       "    <tr>\n",
       "      <th>1MB</th>\n",
       "      <td>0.012609</td>\n",
       "      <td>0.000000</td>\n",
       "      <td>0.000000</td>\n",
       "      <td>0.016599</td>\n",
       "      <td>0.015093</td>\n",
       "      <td>0.016532</td>\n",
       "    </tr>\n",
       "    <tr>\n",
       "      <th>10MB</th>\n",
       "      <td>0.134243</td>\n",
       "      <td>0.038127</td>\n",
       "      <td>0.033339</td>\n",
       "      <td>0.000000</td>\n",
       "      <td>0.034256</td>\n",
       "      <td>0.033636</td>\n",
       "    </tr>\n",
       "    <tr>\n",
       "      <th>100MB</th>\n",
       "      <td>1.533387</td>\n",
       "      <td>0.350063</td>\n",
       "      <td>0.300529</td>\n",
       "      <td>0.088508</td>\n",
       "      <td>0.249150</td>\n",
       "      <td>0.566559</td>\n",
       "    </tr>\n",
       "  </tbody>\n",
       "</table>\n",
       "</div>"
      ],
      "text/plain": [
       "        Query 1   Query 2   Query 3   Query 4   Query 5   Query 6\n",
       "1MB    0.012609  0.000000  0.000000  0.016599  0.015093  0.016532\n",
       "10MB   0.134243  0.038127  0.033339  0.000000  0.034256  0.033636\n",
       "100MB  1.533387  0.350063  0.300529  0.088508  0.249150  0.566559"
      ]
     },
     "metadata": {},
     "output_type": "display_data"
    }
   ],
   "source": [
    "plt.figure(figsize=(15, 10))\n",
    "for i, (query_num, times) in enumerate(performance_results.items(), start=1):\n",
    "    plt.subplot(2, 3, i)\n",
    "    plt.plot(file_sizes, times, marker='o', linestyle='-', color='blue', linewidth=2)\n",
    "    plt.fill_between(file_sizes, times, alpha=0.2, color='blue')\n",
    "    plt.title(f'Query {query_num} Performance')\n",
    "    plt.xlabel('Database Size')\n",
    "    plt.ylabel('Execution Time (seconds)')\n",
    "    plt.grid(True, linestyle='--', alpha=0.7)\n",
    "    plt.xticks(rotation=45)\n",
    "\n",
    "plt.tight_layout()\n",
    "plt.show()\n",
    "\n",
    "# Display summary table\n",
    "summary_df = pd.DataFrame(performance_results, index=file_sizes)\n",
    "summary_df.columns = [f'Query {i}' for i in range(1, 7)]\n",
    "display_formatted_output(\"**Performance Summary (seconds):**\", True)\n",
    "display(summary_df)"
   ]
  },
  {
   "cell_type": "code",
   "execution_count": null,
   "id": "47a10534-774d-430d-bfdc-91a20b10c935",
   "metadata": {},
   "outputs": [],
   "source": []
  }
 ],
 "metadata": {
  "kernelspec": {
   "display_name": "Python 3 (ipykernel)",
   "language": "python",
   "name": "python3"
  },
  "language_info": {
   "codemirror_mode": {
    "name": "ipython",
    "version": 3
   },
   "file_extension": ".py",
   "mimetype": "text/x-python",
   "name": "python",
   "nbconvert_exporter": "python",
   "pygments_lexer": "ipython3",
   "version": "3.11.5"
  }
 },
 "nbformat": 4,
 "nbformat_minor": 5
}
